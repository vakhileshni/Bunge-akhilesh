{
 "cells": [
  {
   "cell_type": "code",
   "execution_count": 1,
   "id": "d2172439",
   "metadata": {},
   "outputs": [
    {
     "name": "stdout",
     "output_type": "stream",
     "text": [
      "akhilesh\n"
     ]
    }
   ],
   "source": [
    "print('akhilesh')"
   ]
  },
  {
   "cell_type": "code",
   "execution_count": 2,
   "id": "f891d100",
   "metadata": {},
   "outputs": [],
   "source": [
    "a='name'"
   ]
  },
  {
   "cell_type": "code",
   "execution_count": 6,
   "id": "d47b3391",
   "metadata": {},
   "outputs": [
    {
     "name": "stdout",
     "output_type": "stream",
     "text": [
      "akhilesh/name'\n"
     ]
    }
   ],
   "source": [
    "print('akhilesh/'+a+\"'\")"
   ]
  },
  {
   "cell_type": "code",
   "execution_count": null,
   "id": "f84e8413",
   "metadata": {},
   "outputs": [],
   "source": [
    "from selenium import webdriver\n",
    "from selenium.webdriver.common.by import By\n",
    "from selenium.webdriver.support.ui import Select\n",
    "import time\n",
    "from openpyxl import load_workbook\n",
    "wb=load_workbook(filename=\"test.xlsx\")\n",
    "sheet1=wb.get_sheet_by_name('Sheet1')\n",
    "from selenium.webdriver.support.ui import Select\n",
    "driver = webdriver.Chrome(executable_path=\"C:/Users/Dell/Desktop/chromedriver.exe\")\n",
    "driver.maximize_window()\n",
    "class BigBasket:\n",
    "    @property\n",
    "    def Big(self):\n",
    "            driver.get('https://bunge.my.salesforce.com/0013x00002Kj8gfAAB')\n",
    "            time.sleep(50)\n",
    "            i = 2\n",
    "            while i<53:\n",
    "                a=sheet1.cell(column=1, row=i).value\n",
    "                driver.get('https://bunge.my.salesforce.com/'+a)\n",
    "                time.sleep(5)\n",
    "                try:\n",
    "                    driver.find_element_by_xpath(\"//a[@href='/0683x00000FfO0j']\").click()\n",
    "                    time.sleep(3)\n",
    "                    driver.find_element_by_xpath(\"//img[@class='downloadItemIcon']\").click()\n",
    "                    sheet1.cell(column=B, row=i, value='Done')\n",
    "                    wb.save(filename=r\"C:\\Users\\Dell\\Desktop\\Test.xlsx\")\n",
    "                except:\n",
    "                    pass\n",
    "                i+=1\n",
    "BigBasket=BigBasket()\n",
    "BigBasket.Big\n"
   ]
  }
 ],
 "metadata": {
  "kernelspec": {
   "display_name": "Python 3",
   "language": "python",
   "name": "python3"
  },
  "language_info": {
   "codemirror_mode": {
    "name": "ipython",
    "version": 3
   },
   "file_extension": ".py",
   "mimetype": "text/x-python",
   "name": "python",
   "nbconvert_exporter": "python",
   "pygments_lexer": "ipython3",
   "version": "3.8.8"
  }
 },
 "nbformat": 4,
 "nbformat_minor": 5
}
